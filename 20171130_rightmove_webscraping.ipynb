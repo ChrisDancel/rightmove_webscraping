{
 "cells": [
  {
   "cell_type": "markdown",
   "metadata": {},
   "source": [
    "# Web Scraping rightmove.co.uk website for sold properties\n",
    "\n",
    "This notebook returns a csv file of all sold properties specified within a search term e.g. 'SW8' along with attributes specified by a house_property list e.g. bedrooms, address, status etc. \n",
    "\n",
    "How it works:\n",
    "1. Search term is specified\n",
    "2. Code gets correct URL from rightmove website using the given search term\n",
    "3. Web scraping is done to find all rightmove_ids\n",
    "4. rightmove_ids are fed through open api to get all property attributes\n",
    "5. All data is stored as a dataframe and then saved as a csv file in the /data/ folder\n"
   ]
  },
  {
   "cell_type": "code",
   "execution_count": 1,
   "metadata": {},
   "outputs": [],
   "source": [
    "import controller.rightmove_data as rd"
   ]
  },
  {
   "cell_type": "code",
   "execution_count": 2,
   "metadata": {},
   "outputs": [],
   "source": [
    "# create a rightmove object\n",
    "rightmove = rd.rightmove_data()"
   ]
  },
  {
   "cell_type": "code",
   "execution_count": 3,
   "metadata": {},
   "outputs": [],
   "source": [
    "# Get URL from given searh term\n",
    "search_term = \"SW1\"\n",
    "\n",
    "# list out all properties to be extracted\n",
    "house_properties = ['address'\n",
    "                    , 'agentRef'\n",
    "                    , 'bedrooms'\n",
    "                    , 'development'\n",
    "                    , 'identifier'\n",
    "                    , 'latitude'\n",
    "                    , 'longitude'\n",
    "                    , 'outcode'\n",
    "                    , 'price'\n",
    "                    , 'propertyType'\n",
    "                    , 'status'\n",
    "                    , 'telephoneNumber'\n",
    "                    , 'tenureType'\n",
    "                    , 'transactionTypeId'\n",
    "                    , 'updateDate'\n",
    "                    , 'publicsiteUrl'\n",
    "                   ]\n"
   ]
  },
  {
   "cell_type": "code",
   "execution_count": 4,
   "metadata": {},
   "outputs": [
    {
     "name": "stdout",
     "output_type": "stream",
     "text": [
      "page number: 0, number of properties: 8\n",
      "page number: 5, number of properties: 6\n",
      "page number: 10, number of properties: 9\n",
      "page number: 15, number of properties: 5\n",
      "page number: 20, number of properties: 3\n",
      "page number: 25, number of properties: 4\n",
      "page number: 30, number of properties: 2\n",
      "page number: 35, number of properties: 3\n",
      "Number of properties found: 162\n",
      "i: 0 of 162\n"
     ]
    },
    {
     "name": "stderr",
     "output_type": "stream",
     "text": [
      "/Users/christopherdancel/.virtualenvs/unmortgage/lib/python3.6/site-packages/pandas/core/series.py:705: FutureWarning: \n",
      "Passing list-likes to .loc or [] with any missing label will raise\n",
      "KeyError in the future, you can use .reindex() as an alternative.\n",
      "\n",
      "See the documentation here:\n",
      "http://pandas.pydata.org/pandas-docs/stable/indexing.html#deprecate-loc-reindex-listlike\n",
      "  return self.loc[key]\n"
     ]
    },
    {
     "name": "stdout",
     "output_type": "stream",
     "text": [
      "i: 50 of 162\n",
      "i: 100 of 162\n",
      "i: 150 of 162\n",
      "File saved to path: /Users/christopherdancel/Documents/Unmortgage/rightmove_webscraping/data/rightmove_properties_SW1.csv\n"
     ]
    }
   ],
   "source": [
    "rightmove.get_rightmove_data(search_term, house_properties)"
   ]
  }
 ],
 "metadata": {
  "kernelspec": {
   "display_name": "Python 3",
   "language": "python",
   "name": "python3"
  },
  "language_info": {
   "codemirror_mode": {
    "name": "ipython",
    "version": 3
   },
   "file_extension": ".py",
   "mimetype": "text/x-python",
   "name": "python",
   "nbconvert_exporter": "python",
   "pygments_lexer": "ipython3",
   "version": "3.6.2"
  }
 },
 "nbformat": 4,
 "nbformat_minor": 2
}
